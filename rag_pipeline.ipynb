{
 "cells": [
  {
   "metadata": {
    "ExecuteTime": {
     "end_time": "2025-09-13T19:59:12.682872Z",
     "start_time": "2025-09-13T19:59:12.329779Z"
    }
   },
   "cell_type": "code",
   "source": [
    "import requests\n",
    "from bs4 import BeautifulSoup\n",
    "import json"
   ],
   "id": "dee0abe55758482b",
   "outputs": [],
   "execution_count": 1
  },
  {
   "metadata": {
    "ExecuteTime": {
     "end_time": "2025-09-13T19:59:13.306507Z",
     "start_time": "2025-09-13T19:59:12.771992Z"
    }
   },
   "cell_type": "code",
   "source": [
    "# URL статьи\n",
    "url = \"https://blog.dzencode.com/ru/illyuziya-kachestva-vash-sayt-idealen-pozdravlyaem-vy-tolko-chto-sozhgli-byudzhet/\"\n",
    "response = requests.get(url)\n",
    "soup = BeautifulSoup(response.content, 'html.parser')\n",
    "article_text = soup.get_text(separator='\\n')"
   ],
   "id": "b61626755b634557",
   "outputs": [],
   "execution_count": 2
  },
  {
   "metadata": {
    "ExecuteTime": {
     "end_time": "2025-09-13T19:59:24.599837Z",
     "start_time": "2025-09-13T19:59:24.596735Z"
    }
   },
   "cell_type": "code",
   "source": [
    "# Сохранение в article.txt\n",
    "with open('artifacts/article.txt', 'w', encoding='utf-8') as f:\n",
    "    f.write(article_text)"
   ],
   "id": "389632dcb2ba8786",
   "outputs": [],
   "execution_count": 3
  }
 ],
 "metadata": {
  "kernelspec": {
   "name": "python3",
   "language": "python",
   "display_name": "Python 3 (ipykernel)"
  }
 },
 "nbformat": 5,
 "nbformat_minor": 9
}
