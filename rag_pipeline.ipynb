{
 "cells": [
  {
   "metadata": {
    "ExecuteTime": {
     "end_time": "2025-09-13T20:33:06.983457Z",
     "start_time": "2025-09-13T20:33:06.497187Z"
    }
   },
   "cell_type": "code",
   "source": [
    "import requests\n",
    "from bs4 import BeautifulSoup\n",
    "import json\n",
    "from datetime import datetime\n",
    "\n",
    "# Загрузка текста статьи\n",
    "url = \"https://blog.dzencode.com/ru/illyuziya-kachestva-vash-sayt-idealen-pozdravlyaem-vy-tolko-chto-sozhgli-byudzhet/\"\n",
    "response = requests.get(url)\n",
    "soup = BeautifulSoup(response.content, 'html.parser')\n",
    "article_text = soup.get_text(separator='\\n')\n",
    "\n",
    "# Сохранение текста\n",
    "with open('artifacts/article.txt', 'w', encoding='utf-8') as f:\n",
    "    f.write(article_text)\n",
    "\n",
    "# Метаданные\n",
    "metadata = {\n",
    "    \"url\": url,\n",
    "    \"language\": \"ru\",\n",
    "    \"date\": \"unknown\",  # Дата не указана, можно уточнить позже\n",
    "    \"topic\": \"Иллюзия качества в веб-дизайне\",\n",
    "    \"project\": \"RAG_Pipeline_Test\",\n",
    "    \"lang\": \"ru\"\n",
    "}\n",
    "with open('artifacts/metadata.json', 'w', encoding='utf-8') as f:\n",
    "    json.dump(metadata, f, ensure_ascii=False, indent=2)"
   ],
   "id": "cd7aaf2855bf1a94",
   "outputs": [],
   "execution_count": 3
  },
  {
   "metadata": {
    "ExecuteTime": {
     "end_time": "2025-09-13T20:37:25.813903Z",
     "start_time": "2025-09-13T20:37:25.808416Z"
    }
   },
   "cell_type": "code",
   "source": [
    "import re\n",
    "\n",
    "# Чтение исходного текста\n",
    "with open('artifacts/article.txt', 'r', encoding='utf-8') as f:\n",
    "    article_text = f.read()\n",
    "\n",
    "# Предобработка: удаление HTML-тегов и лишних символов\n",
    "cleaned_text = re.sub(r'<.*?>', '', article_text)  # Удаление HTML-тегов\n",
    "cleaned_text = re.sub(r'\\s+', ' ', cleaned_text)  # Замена множества пробелов на один\n",
    "cleaned_lines = cleaned_text.splitlines()  # Разбиение по любым разрывам строк\n",
    "cleaned_text = '\\n'.join(line.strip() for line in cleaned_lines if line.strip())  # Фильтр пустых строк\n",
    "\n",
    "# Сохранение чистого текста\n",
    "with open('artifacts/cleaned_article.txt', 'w', encoding='utf-8') as f:\n",
    "    f.write(cleaned_text)"
   ],
   "id": "eb45dfd05873e40d",
   "outputs": [],
   "execution_count": 8
  },
  {
   "metadata": {
    "ExecuteTime": {
     "end_time": "2025-09-13T20:38:17.630678Z",
     "start_time": "2025-09-13T20:38:15.449073Z"
    }
   },
   "cell_type": "code",
   "source": [
    "from langchain.text_splitter import RecursiveCharacterTextSplitter\n",
    "\n",
    "# Чтение очищенного текста\n",
    "with open('artifacts/cleaned_article.txt', 'r', encoding='utf-8') as f:\n",
    "    cleaned_text = f.read()\n",
    "\n",
    "# Разбиение на чанки\n",
    "text_splitter = RecursiveCharacterTextSplitter(\n",
    "    chunk_size=512,\n",
    "    chunk_overlap=50,\n",
    "    length_function=len\n",
    ")\n",
    "chunks = text_splitter.split_text(cleaned_text)\n",
    "\n",
    "# Подготовка данных для JSONL с ID и метаданными\n",
    "data = []\n",
    "for i, chunk in enumerate(chunks):\n",
    "    entry = {\n",
    "        \"id\": i,\n",
    "        \"text\": chunk,\n",
    "        \"metadata\": {\n",
    "            \"url\": \"https://blog.dzencode.com/ru/illyuziya-kachestva-vash-sayt-idealen-pozdravlyaem-vy-tolko-chto-sozhgli-byudzhet/\",\n",
    "            \"language\": \"ru\",\n",
    "            \"date\": \"unknown\",\n",
    "            \"topic\": \"Иллюзия качества в веб-дизайне\",\n",
    "            \"project\": \"RAG_Pipeline_Test\"\n",
    "        }\n",
    "    }\n",
    "    data.append(entry)\n",
    "\n",
    "# Сохранение в JSONL\n",
    "with open('artifacts/rag_article.jsonl', 'w', encoding='utf-8') as f:\n",
    "    for entry in data:\n",
    "        f.write(json.dumps(entry, ensure_ascii=False) + '\\n')"
   ],
   "id": "bb5f229f475b136c",
   "outputs": [],
   "execution_count": 9
  },
  {
   "metadata": {
    "ExecuteTime": {
     "end_time": "2025-09-13T20:56:14.939455Z",
     "start_time": "2025-09-13T20:56:11.842398Z"
    }
   },
   "cell_type": "code",
   "source": [
    "from sentence_transformers import SentenceTransformer\n",
    "from qdrant_client import QdrantClient\n",
    "from qdrant_client.models import VectorParams, Distance, PointStruct\n",
    "import json\n",
    "import pickle\n",
    "\n",
    "# Инициализация модели\n",
    "model = SentenceTransformer('sentence-transformers/all-MiniLM-L6-v2')\n",
    "\n",
    "# Чтение чанков из JSONL\n",
    "chunks = []\n",
    "with open('artifacts/rag_article.jsonl', 'r', encoding='utf-8') as f:\n",
    "    for line in f:\n",
    "        chunks.append(json.loads(line))\n",
    "\n",
    "\n",
    "  # Генерация эмбеддингов\n",
    "texts = [chunk['text'] for chunk in chunks]\n",
    "embeddings = model.encode(texts, convert_to_numpy=True).tolist()\n",
    "\n",
    "# Подключение к Qdrant\n",
    "client = QdrantClient(host='localhost', port=6334)\n",
    "\n",
    "\n",
    "# Создание коллекции с правильной конфигурацией\n",
    "collection_name = \"rag_article_collection\"\n",
    "if hasattr(client, 'has_collection') and client.has_collection(collection_name):\n",
    "    pass  # Коллекция уже существует, ничего не делаем\n",
    "elif hasattr(client, 'collection_exists') and client.collection_exists(collection_name):\n",
    "    pass  # Коллекция уже существует, ничего не делаем\n",
    "else:\n",
    "    client.create_collection(\n",
    "        collection_name=collection_name,\n",
    "        vectors_config=VectorParams(\n",
    "            size=model.get_sentence_embedding_dimension(),\n",
    "            distance=Distance.COSINE\n",
    "        )\n",
    "    )\n",
    "\n",
    "    # Загрузка данных в Qdrant\n",
    "points = [\n",
    "    PointStruct(\n",
    "        id=chunk['id'],\n",
    "        vector=embedding,\n",
    "        payload=chunk['metadata']\n",
    "    )\n",
    "    for chunk, embedding in zip(chunks, embeddings)\n",
    "]\n",
    "client.upsert(collection_name=collection_name, points=points)\n",
    "\n",
    "# Сохранение эмбеддингов (опционально, как .pkl)\n",
    "with open('artifacts/embeddings.pkl', 'wb') as f:\n",
    "    pickle.dump(embeddings, f)"
   ],
   "id": "f96ac98ac3ebe6ea",
   "outputs": [],
   "execution_count": 22
  },
  {
   "metadata": {},
   "cell_type": "markdown",
   "source": "",
   "id": "4495d129236a61ae"
  }
 ],
 "metadata": {
  "kernelspec": {
   "name": "python3",
   "language": "python",
   "display_name": "Python 3 (ipykernel)"
  }
 },
 "nbformat": 5,
 "nbformat_minor": 9
}
